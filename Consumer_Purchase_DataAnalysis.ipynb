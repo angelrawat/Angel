{
 "cells": [
  {
   "cell_type": "code",
   "execution_count": 2,
   "id": "9779d6d2",
   "metadata": {},
   "outputs": [],
   "source": [
    "import pandas as pd\n",
    "import numpy as np\n",
    "import matplotlib.pyplot as plt\n",
    "import seaborn as sns"
   ]
  },
  {
   "cell_type": "code",
   "execution_count": 3,
   "id": "a142cbf7",
   "metadata": {},
   "outputs": [],
   "source": [
    "data=pd.read_csv('C:\\\\Users\\\\rawat\\\\OneDrive\\\\Desktop\\\\DA\\\\Handson\\\\purchase_data.csv')"
   ]
  },
  {
   "cell_type": "code",
   "execution_count": 4,
   "id": "3ff4eda5",
   "metadata": {},
   "outputs": [
    {
     "name": "stdout",
     "output_type": "stream",
     "text": [
      "<class 'pandas.core.frame.DataFrame'>\n",
      "RangeIndex: 263015 entries, 0 to 263014\n",
      "Data columns (total 12 columns):\n",
      " #   Column                      Non-Null Count   Dtype  \n",
      "---  ------                      --------------   -----  \n",
      " 0   User_ID                     263015 non-null  int64  \n",
      " 1   Product_ID                  263014 non-null  object \n",
      " 2   Gender                      263014 non-null  object \n",
      " 3   Age                         263014 non-null  object \n",
      " 4   Occupation                  263014 non-null  float64\n",
      " 5   City_Category               263014 non-null  object \n",
      " 6   Stay_In_Current_City_Years  263014 non-null  object \n",
      " 7   Marital_Status              263014 non-null  float64\n",
      " 8   Product_Category_1          263014 non-null  float64\n",
      " 9   Product_Category_2          181501 non-null  float64\n",
      " 10  Product_Category_3          80582 non-null   float64\n",
      " 11  Purchase                    263014 non-null  float64\n",
      "dtypes: float64(6), int64(1), object(5)\n",
      "memory usage: 24.1+ MB\n"
     ]
    }
   ],
   "source": [
    "data.info()"
   ]
  },
  {
   "cell_type": "code",
   "execution_count": 5,
   "id": "ffd34029",
   "metadata": {},
   "outputs": [
    {
     "data": {
      "text/html": [
       "<div>\n",
       "<style scoped>\n",
       "    .dataframe tbody tr th:only-of-type {\n",
       "        vertical-align: middle;\n",
       "    }\n",
       "\n",
       "    .dataframe tbody tr th {\n",
       "        vertical-align: top;\n",
       "    }\n",
       "\n",
       "    .dataframe thead th {\n",
       "        text-align: right;\n",
       "    }\n",
       "</style>\n",
       "<table border=\"1\" class=\"dataframe\">\n",
       "  <thead>\n",
       "    <tr style=\"text-align: right;\">\n",
       "      <th></th>\n",
       "      <th>User_ID</th>\n",
       "      <th>Product_ID</th>\n",
       "      <th>Gender</th>\n",
       "      <th>Age</th>\n",
       "      <th>Occupation</th>\n",
       "      <th>City_Category</th>\n",
       "      <th>Stay_In_Current_City_Years</th>\n",
       "      <th>Marital_Status</th>\n",
       "      <th>Product_Category_1</th>\n",
       "      <th>Product_Category_2</th>\n",
       "      <th>Product_Category_3</th>\n",
       "      <th>Purchase</th>\n",
       "    </tr>\n",
       "  </thead>\n",
       "  <tbody>\n",
       "    <tr>\n",
       "      <th>0</th>\n",
       "      <td>1000001</td>\n",
       "      <td>P00069042</td>\n",
       "      <td>F</td>\n",
       "      <td>0-17</td>\n",
       "      <td>10.0</td>\n",
       "      <td>A</td>\n",
       "      <td>2</td>\n",
       "      <td>0.0</td>\n",
       "      <td>3.0</td>\n",
       "      <td>NaN</td>\n",
       "      <td>NaN</td>\n",
       "      <td>8370.0</td>\n",
       "    </tr>\n",
       "    <tr>\n",
       "      <th>1</th>\n",
       "      <td>1000001</td>\n",
       "      <td>P00248942</td>\n",
       "      <td>F</td>\n",
       "      <td>0-17</td>\n",
       "      <td>10.0</td>\n",
       "      <td>A</td>\n",
       "      <td>2</td>\n",
       "      <td>0.0</td>\n",
       "      <td>1.0</td>\n",
       "      <td>6.0</td>\n",
       "      <td>14.0</td>\n",
       "      <td>15200.0</td>\n",
       "    </tr>\n",
       "    <tr>\n",
       "      <th>2</th>\n",
       "      <td>1000001</td>\n",
       "      <td>P00087842</td>\n",
       "      <td>F</td>\n",
       "      <td>0-17</td>\n",
       "      <td>10.0</td>\n",
       "      <td>A</td>\n",
       "      <td>2</td>\n",
       "      <td>0.0</td>\n",
       "      <td>12.0</td>\n",
       "      <td>NaN</td>\n",
       "      <td>NaN</td>\n",
       "      <td>1422.0</td>\n",
       "    </tr>\n",
       "    <tr>\n",
       "      <th>3</th>\n",
       "      <td>1000001</td>\n",
       "      <td>P00085442</td>\n",
       "      <td>F</td>\n",
       "      <td>0-17</td>\n",
       "      <td>10.0</td>\n",
       "      <td>A</td>\n",
       "      <td>2</td>\n",
       "      <td>0.0</td>\n",
       "      <td>12.0</td>\n",
       "      <td>14.0</td>\n",
       "      <td>NaN</td>\n",
       "      <td>1057.0</td>\n",
       "    </tr>\n",
       "    <tr>\n",
       "      <th>4</th>\n",
       "      <td>1000002</td>\n",
       "      <td>P00285442</td>\n",
       "      <td>M</td>\n",
       "      <td>55+</td>\n",
       "      <td>16.0</td>\n",
       "      <td>C</td>\n",
       "      <td>4+</td>\n",
       "      <td>0.0</td>\n",
       "      <td>8.0</td>\n",
       "      <td>NaN</td>\n",
       "      <td>NaN</td>\n",
       "      <td>7969.0</td>\n",
       "    </tr>\n",
       "  </tbody>\n",
       "</table>\n",
       "</div>"
      ],
      "text/plain": [
       "   User_ID Product_ID Gender   Age  Occupation City_Category  \\\n",
       "0  1000001  P00069042      F  0-17        10.0             A   \n",
       "1  1000001  P00248942      F  0-17        10.0             A   \n",
       "2  1000001  P00087842      F  0-17        10.0             A   \n",
       "3  1000001  P00085442      F  0-17        10.0             A   \n",
       "4  1000002  P00285442      M   55+        16.0             C   \n",
       "\n",
       "  Stay_In_Current_City_Years  Marital_Status  Product_Category_1  \\\n",
       "0                          2             0.0                 3.0   \n",
       "1                          2             0.0                 1.0   \n",
       "2                          2             0.0                12.0   \n",
       "3                          2             0.0                12.0   \n",
       "4                         4+             0.0                 8.0   \n",
       "\n",
       "   Product_Category_2  Product_Category_3  Purchase  \n",
       "0                 NaN                 NaN    8370.0  \n",
       "1                 6.0                14.0   15200.0  \n",
       "2                 NaN                 NaN    1422.0  \n",
       "3                14.0                 NaN    1057.0  \n",
       "4                 NaN                 NaN    7969.0  "
      ]
     },
     "execution_count": 5,
     "metadata": {},
     "output_type": "execute_result"
    }
   ],
   "source": [
    "data.head()"
   ]
  },
  {
   "cell_type": "code",
   "execution_count": 6,
   "id": "f2fdf016",
   "metadata": {},
   "outputs": [
    {
     "data": {
      "text/plain": [
       "Index(['User_ID', 'Product_ID', 'Gender', 'Age', 'Occupation', 'City_Category',\n",
       "       'Stay_In_Current_City_Years', 'Marital_Status', 'Product_Category_1',\n",
       "       'Product_Category_2', 'Product_Category_3', 'Purchase'],\n",
       "      dtype='object')"
      ]
     },
     "execution_count": 6,
     "metadata": {},
     "output_type": "execute_result"
    }
   ],
   "source": [
    "data.columns"
   ]
  },
  {
   "cell_type": "code",
   "execution_count": 7,
   "id": "284f7e43",
   "metadata": {},
   "outputs": [
    {
     "data": {
      "text/plain": [
       "Stay_In_Current_City_Years\n",
       "1     92588\n",
       "2     48580\n",
       "3     45569\n",
       "4+    40665\n",
       "0     35612\n",
       "Name: count, dtype: int64"
      ]
     },
     "execution_count": 7,
     "metadata": {},
     "output_type": "execute_result"
    }
   ],
   "source": [
    "data['Stay_In_Current_City_Years'].value_counts()"
   ]
  },
  {
   "cell_type": "code",
   "execution_count": 8,
   "id": "ec21348f",
   "metadata": {},
   "outputs": [],
   "source": [
    "data['Stay_In_Current_City_Years'].replace(to_replace='4+', value=4, inplace=True)\n",
    "#0r\n",
    "#data['Stay_In_Current_City_Years']=data['Stay_In_Current_City_Years'].replace(to_replace='4+', value=4)\n",
    "#Notes- in above, there's difference of inplace"
   ]
  },
  {
   "cell_type": "code",
   "execution_count": 9,
   "id": "4a8ffd6e",
   "metadata": {},
   "outputs": [],
   "source": [
    "data['Stay_In_Current_City_Years']=pd.to_numeric(data['Stay_In_Current_City_Years'],errors='coerce')\n",
    "#or use .astype('int')"
   ]
  },
  {
   "cell_type": "code",
   "execution_count": 10,
   "id": "0a13506c",
   "metadata": {},
   "outputs": [],
   "source": [
    "#null values=nan values\n",
    "#empty space in column is str value\n",
    "#0 is value too\n",
    "#only nan are null value"
   ]
  },
  {
   "cell_type": "code",
   "execution_count": 11,
   "id": "4ef93335",
   "metadata": {},
   "outputs": [],
   "source": [
    "data.dropna(inplace=True)"
   ]
  },
  {
   "cell_type": "code",
   "execution_count": 85,
   "id": "ec337c8c",
   "metadata": {},
   "outputs": [
    {
     "data": {
      "text/plain": [
       "User_ID                       0\n",
       "Product_ID                    0\n",
       "Gender                        0\n",
       "Age                           0\n",
       "Occupation                    0\n",
       "City_Category                 0\n",
       "Stay_In_Current_City_Years    0\n",
       "Marital_Status                0\n",
       "Product_Category_1            0\n",
       "Product_Category_2            0\n",
       "Product_Category_3            0\n",
       "Purchase                      0\n",
       "dtype: int64"
      ]
     },
     "execution_count": 85,
     "metadata": {},
     "output_type": "execute_result"
    }
   ],
   "source": [
    "data.isna().sum()"
   ]
  },
  {
   "cell_type": "code",
   "execution_count": 91,
   "id": "808172f3",
   "metadata": {},
   "outputs": [],
   "source": [
    "# Encoding\n",
    "from sklearn import preprocessing\n",
    "label_encoder=preprocessing.LabelEncoder\n",
    "la = LabelEncoder()  # la=ABC()\n",
    "\n",
    "\n",
    "#Encoding can be used for numerical data also but prefered for categorical data"
   ]
  },
  {
   "cell_type": "code",
   "execution_count": 94,
   "id": "2469c12b",
   "metadata": {},
   "outputs": [
    {
     "name": "stdout",
     "output_type": "stream",
     "text": [
      "Gender ['F' 'M']\n"
     ]
    }
   ],
   "source": [
    "data['Gender']=la.fit_transform(data['Gender'])\n",
    "print('Gender', la.classes_)\n",
    "\n"
   ]
  },
  {
   "cell_type": "code",
   "execution_count": 95,
   "id": "da22d80e",
   "metadata": {},
   "outputs": [
    {
     "data": {
      "text/plain": [
       "array([0, 1])"
      ]
     },
     "execution_count": 95,
     "metadata": {},
     "output_type": "execute_result"
    }
   ],
   "source": [
    "data['Gender'].unique()"
   ]
  },
  {
   "cell_type": "code",
   "execution_count": 96,
   "id": "a83c58e8",
   "metadata": {},
   "outputs": [
    {
     "data": {
      "text/plain": [
       "{'F': 0, 'M': 1}"
      ]
     },
     "execution_count": 96,
     "metadata": {},
     "output_type": "execute_result"
    }
   ],
   "source": [
    "label_mapping=dict(zip(la.classes_,la.transform(la.classes_)))\n",
    "label_mapping"
   ]
  },
  {
   "cell_type": "code",
   "execution_count": 97,
   "id": "9a307196",
   "metadata": {},
   "outputs": [],
   "source": [
    "data['Age']=la.fit_transform(data['Age'])"
   ]
  },
  {
   "cell_type": "code",
   "execution_count": 98,
   "id": "95c589ee",
   "metadata": {},
   "outputs": [
    {
     "name": "stdout",
     "output_type": "stream",
     "text": [
      "Age ['0-17' '18-25' '26-35' '36-45' '46-50' '51-55' '55+']\n"
     ]
    }
   ],
   "source": [
    "print('Age', la.classes_)"
   ]
  },
  {
   "cell_type": "code",
   "execution_count": 99,
   "id": "99c51f38",
   "metadata": {},
   "outputs": [
    {
     "data": {
      "text/plain": [
       "array([0, 4, 2, 5, 3, 1, 6])"
      ]
     },
     "execution_count": 99,
     "metadata": {},
     "output_type": "execute_result"
    }
   ],
   "source": [
    "data['Age'].unique()"
   ]
  },
  {
   "cell_type": "code",
   "execution_count": 100,
   "id": "0238de89",
   "metadata": {},
   "outputs": [
    {
     "data": {
      "text/plain": [
       "{'0-17': 0,\n",
       " '18-25': 1,\n",
       " '26-35': 2,\n",
       " '36-45': 3,\n",
       " '46-50': 4,\n",
       " '51-55': 5,\n",
       " '55+': 6}"
      ]
     },
     "execution_count": 100,
     "metadata": {},
     "output_type": "execute_result"
    }
   ],
   "source": [
    "label_mapping=dict(zip(la.classes_,la.transform(la.classes_)))\n",
    "label_mapping\n",
    "#it shows which values converted to which.\n",
    "#fit_transform only once when we intitially pass data after that only transform"
   ]
  },
  {
   "cell_type": "code",
   "execution_count": 101,
   "id": "1bf64fdf",
   "metadata": {},
   "outputs": [],
   "source": [
    "data['Product_ID']=la.fit_transform(data['Product_ID'])\n",
    "data['User_ID']=la.fit_transform(data['User_ID'])\n",
    "data['City_Category']=la.fit_transform(data['City_Category'])"
   ]
  },
  {
   "cell_type": "code",
   "execution_count": 104,
   "id": "9d48c077",
   "metadata": {},
   "outputs": [
    {
     "data": {
      "text/html": [
       "<div>\n",
       "<style scoped>\n",
       "    .dataframe tbody tr th:only-of-type {\n",
       "        vertical-align: middle;\n",
       "    }\n",
       "\n",
       "    .dataframe tbody tr th {\n",
       "        vertical-align: top;\n",
       "    }\n",
       "\n",
       "    .dataframe thead th {\n",
       "        text-align: right;\n",
       "    }\n",
       "</style>\n",
       "<table border=\"1\" class=\"dataframe\">\n",
       "  <thead>\n",
       "    <tr style=\"text-align: right;\">\n",
       "      <th></th>\n",
       "      <th>User_ID</th>\n",
       "      <th>Product_ID</th>\n",
       "      <th>Gender</th>\n",
       "      <th>Age</th>\n",
       "      <th>Occupation</th>\n",
       "      <th>City_Category</th>\n",
       "      <th>Stay_In_Current_City_Years</th>\n",
       "      <th>Marital_Status</th>\n",
       "      <th>Product_Category_1</th>\n",
       "      <th>Product_Category_2</th>\n",
       "      <th>Product_Category_3</th>\n",
       "      <th>Purchase</th>\n",
       "    </tr>\n",
       "  </thead>\n",
       "  <tbody>\n",
       "    <tr>\n",
       "      <th>1</th>\n",
       "      <td>0</td>\n",
       "      <td>391</td>\n",
       "      <td>0</td>\n",
       "      <td>0</td>\n",
       "      <td>10.0</td>\n",
       "      <td>0</td>\n",
       "      <td>2.0</td>\n",
       "      <td>0.0</td>\n",
       "      <td>1.0</td>\n",
       "      <td>6.0</td>\n",
       "      <td>14.0</td>\n",
       "      <td>15200.0</td>\n",
       "    </tr>\n",
       "    <tr>\n",
       "      <th>6</th>\n",
       "      <td>3</td>\n",
       "      <td>284</td>\n",
       "      <td>1</td>\n",
       "      <td>4</td>\n",
       "      <td>7.0</td>\n",
       "      <td>1</td>\n",
       "      <td>2.0</td>\n",
       "      <td>1.0</td>\n",
       "      <td>1.0</td>\n",
       "      <td>8.0</td>\n",
       "      <td>17.0</td>\n",
       "      <td>19215.0</td>\n",
       "    </tr>\n",
       "    <tr>\n",
       "      <th>13</th>\n",
       "      <td>4</td>\n",
       "      <td>211</td>\n",
       "      <td>1</td>\n",
       "      <td>2</td>\n",
       "      <td>20.0</td>\n",
       "      <td>0</td>\n",
       "      <td>1.0</td>\n",
       "      <td>1.0</td>\n",
       "      <td>1.0</td>\n",
       "      <td>2.0</td>\n",
       "      <td>5.0</td>\n",
       "      <td>15665.0</td>\n",
       "    </tr>\n",
       "    <tr>\n",
       "      <th>14</th>\n",
       "      <td>5</td>\n",
       "      <td>363</td>\n",
       "      <td>0</td>\n",
       "      <td>5</td>\n",
       "      <td>9.0</td>\n",
       "      <td>0</td>\n",
       "      <td>1.0</td>\n",
       "      <td>0.0</td>\n",
       "      <td>5.0</td>\n",
       "      <td>8.0</td>\n",
       "      <td>14.0</td>\n",
       "      <td>5378.0</td>\n",
       "    </tr>\n",
       "    <tr>\n",
       "      <th>16</th>\n",
       "      <td>5</td>\n",
       "      <td>517</td>\n",
       "      <td>0</td>\n",
       "      <td>5</td>\n",
       "      <td>9.0</td>\n",
       "      <td>0</td>\n",
       "      <td>1.0</td>\n",
       "      <td>0.0</td>\n",
       "      <td>2.0</td>\n",
       "      <td>3.0</td>\n",
       "      <td>4.0</td>\n",
       "      <td>13055.0</td>\n",
       "    </tr>\n",
       "  </tbody>\n",
       "</table>\n",
       "</div>"
      ],
      "text/plain": [
       "    User_ID  Product_ID  Gender  Age  Occupation  City_Category  \\\n",
       "1         0         391       0    0        10.0              0   \n",
       "6         3         284       1    4         7.0              1   \n",
       "13        4         211       1    2        20.0              0   \n",
       "14        5         363       0    5         9.0              0   \n",
       "16        5         517       0    5         9.0              0   \n",
       "\n",
       "    Stay_In_Current_City_Years  Marital_Status  Product_Category_1  \\\n",
       "1                          2.0             0.0                 1.0   \n",
       "6                          2.0             1.0                 1.0   \n",
       "13                         1.0             1.0                 1.0   \n",
       "14                         1.0             0.0                 5.0   \n",
       "16                         1.0             0.0                 2.0   \n",
       "\n",
       "    Product_Category_2  Product_Category_3  Purchase  \n",
       "1                  6.0                14.0   15200.0  \n",
       "6                  8.0                17.0   19215.0  \n",
       "13                 2.0                 5.0   15665.0  \n",
       "14                 8.0                14.0    5378.0  \n",
       "16                 3.0                 4.0   13055.0  "
      ]
     },
     "execution_count": 104,
     "metadata": {},
     "output_type": "execute_result"
    }
   ],
   "source": [
    "data.head()\n"
   ]
  },
  {
   "cell_type": "code",
   "execution_count": 103,
   "id": "c07e50ec",
   "metadata": {},
   "outputs": [
    {
     "name": "stderr",
     "output_type": "stream",
     "text": [
      "C:\\Users\\rawat\\anaconda3\\Lib\\site-packages\\seaborn\\axisgrid.py:118: UserWarning: The figure layout has changed to tight\n",
      "  self._figure.tight_layout(*args, **kwargs)\n"
     ]
    },
    {
     "data": {
      "text/plain": [
       "<seaborn.axisgrid.FacetGrid at 0x28190b3a9d0>"
      ]
     },
     "execution_count": 103,
     "metadata": {},
     "output_type": "execute_result"
    },
    {
     "data": {
      "image/png": "[encoded data removed]",
      "text/plain": [
       "<Figure size 500x500 with 1 Axes>"
      ]
     },
     "metadata": {},
     "output_type": "display_data"
    }
   ],
   "source": [
    "#which gender is dominating the purchase\n",
    "#sns.barplot(x='Gender', y='Purchase', data=data)\n",
    "sns.catplot(x='Gender', y='Purchase', data=data, kind='bar')"
   ]
  },
  {
   "cell_type": "markdown",
   "id": "c5939a09",
   "metadata": {},
   "source": [
    "#Among all men and women, majority of puchase by man"
   ]
  },
  {
   "cell_type": "code",
   "execution_count": 53,
   "id": "7d77b9eb",
   "metadata": {},
   "outputs": [
    {
     "data": {
      "text/plain": [
       "<Axes: xlabel='Gender', ylabel='count'>"
      ]
     },
     "execution_count": 53,
     "metadata": {},
     "output_type": "execute_result"
    },
    {
     "data": {
      "image/png": "[encoded data removed]",
      "text/plain": [
       "<Figure size 640x480 with 1 Axes>"
      ]
     },
     "metadata": {},
     "output_type": "display_data"
    }
   ],
   "source": [
    "sns.countplot(x='Gender', data=data)"
   ]
  },
  {
   "cell_type": "code",
   "execution_count": 74,
   "id": "8b16f4d5",
   "metadata": {},
   "outputs": [
    {
     "data": {
      "text/plain": [
       "<Axes: xlabel='c', ylabel='b'>"
      ]
     },
     "execution_count": 74,
     "metadata": {},
     "output_type": "execute_result"
    },
    {
     "data": {
      "image/png": "[encoded data removed]",
      "text/plain": [
       "<Figure size 640x480 with 1 Axes>"
      ]
     },
     "metadata": {},
     "output_type": "display_data"
    }
   ],
   "source": [
    "a={'c':[1,1,1,1,2],\n",
    "   'b':[10,12,14,0,16]}\n",
    "x=pd.DataFrame(a)\n",
    "sns.barplot(x='c', y='b', data=x)\n",
    "#this plot is an example to understand what barplot does.\n",
    "#In bar plot, it takess unique values for x axis and then calculate avg of all y values corresponding to that x value"
   ]
  },
  {
   "cell_type": "code",
   "execution_count": 105,
   "id": "a685f3e0",
   "metadata": {},
   "outputs": [
    {
     "data": {
      "text/plain": [
       "<Axes: xlabel='Product_Category_1', ylabel='count'>"
      ]
     },
     "execution_count": 105,
     "metadata": {},
     "output_type": "execute_result"
    },
    {
     "data": {
      "image/png": "[encoded data removed]",
      "text/plain": [
       "<Figure size 640x480 with 1 Axes>"
      ]
     },
     "metadata": {},
     "output_type": "display_data"
    }
   ],
   "source": [
    "#for frequency, we go for either countplot or histogram\n",
    "sns.countplot(x='Product_Category_1', data=data)\n"
   ]
  },
  {
   "cell_type": "code",
   "execution_count": 106,
   "id": "f9f1d9ed",
   "metadata": {},
   "outputs": [
    {
     "data": {
      "text/plain": [
       "<Axes: xlabel='Stay_In_Current_City_Years', ylabel='count'>"
      ]
     },
     "execution_count": 106,
     "metadata": {},
     "output_type": "execute_result"
    },
    {
     "data": {
      "image/png": "[encoded data removed]",
      "text/plain": [
       "<Figure size 640x480 with 1 Axes>"
      ]
     },
     "metadata": {},
     "output_type": "display_data"
    }
   ],
   "source": [
    "sns.countplot(x='Stay_In_Current_City_Years', data=data)"
   ]
  },
  {
   "cell_type": "markdown",
   "id": "30e82542",
   "metadata": {},
   "source": [
    "# Statistical Analysis"
   ]
  },
  {
   "cell_type": "markdown",
   "id": "8a30a7cf",
   "metadata": {},
   "source": [
    "Using Statistical Analysis, find out statistical evidence for the following:\n",
    "\n",
    "a. It was observed that the average purchase made by the Men of the age 18-25 was 10000. Is it still the same?\n",
    "\n",
    "b. It was observed that the percentage of women of the age that spend more than 10000 was 35%. Is it still the same?\n",
    "\n",
    "c. Are the variances of the purchase amounts significantly different between men and women in the age group 18-25?\"\n",
    "\n",
    "d. Is the percentage of men who have spent more than 10000 the same for the ages 18-25 and 26-35?"
   ]
  },
  {
   "cell_type": "markdown",
   "id": "7a583119",
   "metadata": {},
   "source": [
    "1. It was observed that the average purchase made by the Men of the age 18-25 was 10000. Is it still the same?\n",
    "null hypothesis - The mean is 10000\n",
    "alternate hypothesis - The mean is not 10000"
   ]
  },
  {
   "cell_type": "code",
   "execution_count": 18,
   "id": "d94ef615",
   "metadata": {},
   "outputs": [],
   "source": [
    "sample1=data[(data['Age']=='18-25') & (data['Gender']=='M')].sample(25)"
   ]
  },
  {
   "cell_type": "code",
   "execution_count": 24,
   "id": "06db2423",
   "metadata": {},
   "outputs": [
    {
     "data": {
      "text/plain": [
       "5649.660771527202"
      ]
     },
     "execution_count": 24,
     "metadata": {},
     "output_type": "execute_result"
    }
   ],
   "source": [
    "sample1['Purchase'].mean()\n",
    "sample1['Purchase'].std()\n"
   ]
  },
  {
   "cell_type": "code",
   "execution_count": 23,
   "id": "7de59c71",
   "metadata": {},
   "outputs": [
    {
     "name": "stdout",
     "output_type": "stream",
     "text": [
      "1.9300273841136228 0.06550413135327829\n"
     ]
    }
   ],
   "source": [
    "from scipy.stats import ttest_1samp\n",
    "\n",
    "t_stat, p_value = ttest_1samp(sample1[\"Purchase\"], 10000)\n",
    "print(t_stat, p_value )"
   ]
  },
  {
   "cell_type": "markdown",
   "id": "570611d5",
   "metadata": {},
   "source": [
    "p_value>0.05, therefore, Ho is true."
   ]
  },
  {
   "cell_type": "markdown",
   "id": "1210ea86",
   "metadata": {},
   "source": [
    "#2. It was observed that the percentage of women of the age that spend more than 10000 was 35%. Is it still the same?\n",
    "#null hypothesis - The proportion is 35%\n",
    "#alternate hypothesis - not 35%"
   ]
  },
  {
   "cell_type": "code",
   "execution_count": 36,
   "id": "3ab5bb5e",
   "metadata": {},
   "outputs": [
    {
     "data": {
      "text/html": [
       "<div>\n",
       "<style scoped>\n",
       "    .dataframe tbody tr th:only-of-type {\n",
       "        vertical-align: middle;\n",
       "    }\n",
       "\n",
       "    .dataframe tbody tr th {\n",
       "        vertical-align: top;\n",
       "    }\n",
       "\n",
       "    .dataframe thead th {\n",
       "        text-align: right;\n",
       "    }\n",
       "</style>\n",
       "<table border=\"1\" class=\"dataframe\">\n",
       "  <thead>\n",
       "    <tr style=\"text-align: right;\">\n",
       "      <th></th>\n",
       "      <th>User_ID</th>\n",
       "      <th>Product_ID</th>\n",
       "      <th>Gender</th>\n",
       "      <th>Age</th>\n",
       "      <th>Occupation</th>\n",
       "      <th>City_Category</th>\n",
       "      <th>Stay_In_Current_City_Years</th>\n",
       "      <th>Marital_Status</th>\n",
       "      <th>Product_Category_1</th>\n",
       "      <th>Product_Category_2</th>\n",
       "      <th>Product_Category_3</th>\n",
       "      <th>Purchase</th>\n",
       "    </tr>\n",
       "  </thead>\n",
       "  <tbody>\n",
       "    <tr>\n",
       "      <th>226268</th>\n",
       "      <td>1004865</td>\n",
       "      <td>P00114342</td>\n",
       "      <td>F</td>\n",
       "      <td>36-45</td>\n",
       "      <td>14.0</td>\n",
       "      <td>C</td>\n",
       "      <td>1.0</td>\n",
       "      <td>1.0</td>\n",
       "      <td>1.0</td>\n",
       "      <td>8.0</td>\n",
       "      <td>17.0</td>\n",
       "      <td>15612.0</td>\n",
       "    </tr>\n",
       "    <tr>\n",
       "      <th>223140</th>\n",
       "      <td>1004380</td>\n",
       "      <td>P00188742</td>\n",
       "      <td>F</td>\n",
       "      <td>26-35</td>\n",
       "      <td>1.0</td>\n",
       "      <td>C</td>\n",
       "      <td>1.0</td>\n",
       "      <td>0.0</td>\n",
       "      <td>8.0</td>\n",
       "      <td>14.0</td>\n",
       "      <td>17.0</td>\n",
       "      <td>10056.0</td>\n",
       "    </tr>\n",
       "    <tr>\n",
       "      <th>88613</th>\n",
       "      <td>1001658</td>\n",
       "      <td>P00112542</td>\n",
       "      <td>F</td>\n",
       "      <td>36-45</td>\n",
       "      <td>6.0</td>\n",
       "      <td>B</td>\n",
       "      <td>2.0</td>\n",
       "      <td>0.0</td>\n",
       "      <td>1.0</td>\n",
       "      <td>11.0</td>\n",
       "      <td>15.0</td>\n",
       "      <td>19000.0</td>\n",
       "    </tr>\n",
       "    <tr>\n",
       "      <th>24472</th>\n",
       "      <td>1003781</td>\n",
       "      <td>P00015942</td>\n",
       "      <td>F</td>\n",
       "      <td>55+</td>\n",
       "      <td>11.0</td>\n",
       "      <td>C</td>\n",
       "      <td>4.0</td>\n",
       "      <td>0.0</td>\n",
       "      <td>6.0</td>\n",
       "      <td>10.0</td>\n",
       "      <td>13.0</td>\n",
       "      <td>16398.0</td>\n",
       "    </tr>\n",
       "    <tr>\n",
       "      <th>201223</th>\n",
       "      <td>1001092</td>\n",
       "      <td>P00004842</td>\n",
       "      <td>F</td>\n",
       "      <td>18-25</td>\n",
       "      <td>4.0</td>\n",
       "      <td>C</td>\n",
       "      <td>2.0</td>\n",
       "      <td>0.0</td>\n",
       "      <td>3.0</td>\n",
       "      <td>4.0</td>\n",
       "      <td>12.0</td>\n",
       "      <td>10678.0</td>\n",
       "    </tr>\n",
       "    <tr>\n",
       "      <th>258169</th>\n",
       "      <td>1003782</td>\n",
       "      <td>P00190142</td>\n",
       "      <td>F</td>\n",
       "      <td>26-35</td>\n",
       "      <td>0.0</td>\n",
       "      <td>B</td>\n",
       "      <td>3.0</td>\n",
       "      <td>0.0</td>\n",
       "      <td>3.0</td>\n",
       "      <td>4.0</td>\n",
       "      <td>5.0</td>\n",
       "      <td>10588.0</td>\n",
       "    </tr>\n",
       "    <tr>\n",
       "      <th>237698</th>\n",
       "      <td>1000695</td>\n",
       "      <td>P00253142</td>\n",
       "      <td>F</td>\n",
       "      <td>18-25</td>\n",
       "      <td>1.0</td>\n",
       "      <td>A</td>\n",
       "      <td>2.0</td>\n",
       "      <td>0.0</td>\n",
       "      <td>1.0</td>\n",
       "      <td>2.0</td>\n",
       "      <td>5.0</td>\n",
       "      <td>11423.0</td>\n",
       "    </tr>\n",
       "    <tr>\n",
       "      <th>82468</th>\n",
       "      <td>1000746</td>\n",
       "      <td>P00112142</td>\n",
       "      <td>F</td>\n",
       "      <td>18-25</td>\n",
       "      <td>19.0</td>\n",
       "      <td>B</td>\n",
       "      <td>3.0</td>\n",
       "      <td>0.0</td>\n",
       "      <td>1.0</td>\n",
       "      <td>2.0</td>\n",
       "      <td>14.0</td>\n",
       "      <td>11466.0</td>\n",
       "    </tr>\n",
       "    <tr>\n",
       "      <th>82960</th>\n",
       "      <td>1000831</td>\n",
       "      <td>P00119142</td>\n",
       "      <td>F</td>\n",
       "      <td>46-50</td>\n",
       "      <td>0.0</td>\n",
       "      <td>C</td>\n",
       "      <td>2.0</td>\n",
       "      <td>1.0</td>\n",
       "      <td>3.0</td>\n",
       "      <td>4.0</td>\n",
       "      <td>12.0</td>\n",
       "      <td>11051.0</td>\n",
       "    </tr>\n",
       "    <tr>\n",
       "      <th>91928</th>\n",
       "      <td>1002106</td>\n",
       "      <td>P00058242</td>\n",
       "      <td>F</td>\n",
       "      <td>18-25</td>\n",
       "      <td>20.0</td>\n",
       "      <td>A</td>\n",
       "      <td>3.0</td>\n",
       "      <td>1.0</td>\n",
       "      <td>3.0</td>\n",
       "      <td>4.0</td>\n",
       "      <td>12.0</td>\n",
       "      <td>10822.0</td>\n",
       "    </tr>\n",
       "    <tr>\n",
       "      <th>165711</th>\n",
       "      <td>1001605</td>\n",
       "      <td>P00044242</td>\n",
       "      <td>F</td>\n",
       "      <td>18-25</td>\n",
       "      <td>0.0</td>\n",
       "      <td>B</td>\n",
       "      <td>1.0</td>\n",
       "      <td>0.0</td>\n",
       "      <td>2.0</td>\n",
       "      <td>4.0</td>\n",
       "      <td>8.0</td>\n",
       "      <td>10085.0</td>\n",
       "    </tr>\n",
       "  </tbody>\n",
       "</table>\n",
       "</div>"
      ],
      "text/plain": [
       "        User_ID Product_ID Gender    Age  Occupation City_Category  \\\n",
       "226268  1004865  P00114342      F  36-45        14.0             C   \n",
       "223140  1004380  P00188742      F  26-35         1.0             C   \n",
       "88613   1001658  P00112542      F  36-45         6.0             B   \n",
       "24472   1003781  P00015942      F    55+        11.0             C   \n",
       "201223  1001092  P00004842      F  18-25         4.0             C   \n",
       "258169  1003782  P00190142      F  26-35         0.0             B   \n",
       "237698  1000695  P00253142      F  18-25         1.0             A   \n",
       "82468   1000746  P00112142      F  18-25        19.0             B   \n",
       "82960   1000831  P00119142      F  46-50         0.0             C   \n",
       "91928   1002106  P00058242      F  18-25        20.0             A   \n",
       "165711  1001605  P00044242      F  18-25         0.0             B   \n",
       "\n",
       "        Stay_In_Current_City_Years  Marital_Status  Product_Category_1  \\\n",
       "226268                         1.0             1.0                 1.0   \n",
       "223140                         1.0             0.0                 8.0   \n",
       "88613                          2.0             0.0                 1.0   \n",
       "24472                          4.0             0.0                 6.0   \n",
       "201223                         2.0             0.0                 3.0   \n",
       "258169                         3.0             0.0                 3.0   \n",
       "237698                         2.0             0.0                 1.0   \n",
       "82468                          3.0             0.0                 1.0   \n",
       "82960                          2.0             1.0                 3.0   \n",
       "91928                          3.0             1.0                 3.0   \n",
       "165711                         1.0             0.0                 2.0   \n",
       "\n",
       "        Product_Category_2  Product_Category_3  Purchase  \n",
       "226268                 8.0                17.0   15612.0  \n",
       "223140                14.0                17.0   10056.0  \n",
       "88613                 11.0                15.0   19000.0  \n",
       "24472                 10.0                13.0   16398.0  \n",
       "201223                 4.0                12.0   10678.0  \n",
       "258169                 4.0                 5.0   10588.0  \n",
       "237698                 2.0                 5.0   11423.0  \n",
       "82468                  2.0                14.0   11466.0  \n",
       "82960                  4.0                12.0   11051.0  \n",
       "91928                  4.0                12.0   10822.0  \n",
       "165711                 4.0                 8.0   10085.0  "
      ]
     },
     "execution_count": 36,
     "metadata": {},
     "output_type": "execute_result"
    }
   ],
   "source": [
    "sample2=data[data['Purchase']>10000].sample(50)\n",
    "sample2[(sample2['Purchase']>10000) & (sample2['Gender']=='F')]"
   ]
  },
  {
   "cell_type": "code",
   "execution_count": 63,
   "id": "d86f6990",
   "metadata": {},
   "outputs": [
    {
     "data": {
      "text/plain": [
       "Gender\n",
       "M    39\n",
       "F    11\n",
       "Name: count, dtype: int64"
      ]
     },
     "execution_count": 63,
     "metadata": {},
     "output_type": "execute_result"
    }
   ],
   "source": [
    "sample2['Gender'].value_counts()"
   ]
  },
  {
   "cell_type": "code",
   "execution_count": 64,
   "id": "009b39ce",
   "metadata": {},
   "outputs": [],
   "source": [
    "count=sample2['Gender'].value_counts()['F']\n",
    "nobs=len(sample2)"
   ]
  },
  {
   "cell_type": "code",
   "execution_count": 65,
   "id": "04548e71",
   "metadata": {},
   "outputs": [
    {
     "name": "stdout",
     "output_type": "stream",
     "text": [
      "2.901852153495405 0.0037096357179838575\n"
     ]
    }
   ],
   "source": [
    "from statsmodels.stats.proportion import proportions_ztest\n",
    "\n",
    "z_stat, p_val = proportions_ztest(count=count,\n",
    "                                  nobs=nobs,\n",
    "                                  value=0.05)\n",
    "print(z_stat, p_val)"
   ]
  },
  {
   "cell_type": "markdown",
   "id": "ca2e9a84",
   "metadata": {},
   "source": [
    "p_value<0.05, therefore, Ho is false."
   ]
  },
  {
   "cell_type": "markdown",
   "id": "3a2396e2",
   "metadata": {},
   "source": [
    "3.  Are the variances of the purchase amounts significantly different between men and women in the age group 18-25?\n",
    "H0- variance same\n",
    "h1- variance diff"
   ]
  },
  {
   "cell_type": "code",
   "execution_count": 66,
   "id": "e5ad81da",
   "metadata": {},
   "outputs": [],
   "source": [
    "sample3F= data[(data['Age']=='18-25') & (data['Gender']=='F')].sample(50)\n",
    "sample3M=data[(data['Age']=='18-25') & (data['Gender']=='M')].sample(50)"
   ]
  },
  {
   "cell_type": "code",
   "execution_count": 67,
   "id": "748032ad",
   "metadata": {},
   "outputs": [],
   "source": [
    "F=sample3M['Purchase'].var()/sample3F['Purchase'].var()\n",
    "df1=len(sample3M)\n",
    "df2=len(sample3F)"
   ]
  },
  {
   "cell_type": "code",
   "execution_count": 68,
   "id": "a9e2d842",
   "metadata": {},
   "outputs": [
    {
     "data": {
      "text/plain": [
       "0.2981700456080611"
      ]
     },
     "execution_count": 68,
     "metadata": {},
     "output_type": "execute_result"
    }
   ],
   "source": [
    "import scipy\n",
    "scipy.stats.f.cdf(F, df1, df2)"
   ]
  },
  {
   "cell_type": "markdown",
   "id": "c5cefa90",
   "metadata": {},
   "source": [
    "#the p-value is greater than 0.05, do not reject the null hypothesis."
   ]
  },
  {
   "cell_type": "markdown",
   "id": "2be79f9c",
   "metadata": {},
   "source": [
    "4. Is the percentage of men who have spent more than 10000 the same for the ages 18-25 and 26-35?\n",
    "H0- same\n",
    "H1- differ"
   ]
  },
  {
   "cell_type": "code",
   "execution_count": 69,
   "id": "53b1594c",
   "metadata": {},
   "outputs": [],
   "source": [
    "sample4a=data[(data['Age']=='18-25') & (data['Purchase']>10000)].sample(50)\n",
    "sample4b=data[(data['Age']=='26-35') & (data['Purchase']>10000)].sample(50)"
   ]
  },
  {
   "cell_type": "code",
   "execution_count": 70,
   "id": "77a43ad3",
   "metadata": {},
   "outputs": [
    {
     "data": {
      "text/plain": [
       "Gender\n",
       "M    41\n",
       "F     9\n",
       "Name: count, dtype: int64"
      ]
     },
     "execution_count": 70,
     "metadata": {},
     "output_type": "execute_result"
    }
   ],
   "source": [
    "sample4a['Gender'].value_counts()"
   ]
  },
  {
   "cell_type": "code",
   "execution_count": 71,
   "id": "8900b62d",
   "metadata": {},
   "outputs": [
    {
     "data": {
      "text/plain": [
       "Gender\n",
       "M    40\n",
       "F    10\n",
       "Name: count, dtype: int64"
      ]
     },
     "execution_count": 71,
     "metadata": {},
     "output_type": "execute_result"
    }
   ],
   "source": [
    "sample4b['Gender'].value_counts()"
   ]
  },
  {
   "cell_type": "code",
   "execution_count": 72,
   "id": "59ec257e",
   "metadata": {},
   "outputs": [
    {
     "name": "stdout",
     "output_type": "stream",
     "text": [
      "0.12275715403505834 0.9022994036926009\n"
     ]
    }
   ],
   "source": [
    "from statsmodels.stats.proportion import proportions_ztest\n",
    "count = np.array([41, 38])\n",
    "nobs = np.array([50, 50])\n",
    "stat, pval = proportions_ztest(count, \n",
    "                               nobs,\n",
    "                              value=0.05,\n",
    "                              alternative='two-sided')\n",
    "\n",
    "print(stat, pval)"
   ]
  },
  {
   "cell_type": "markdown",
   "id": "7da0e79a",
   "metadata": {},
   "source": [
    "p_value>0.05, therefore, Ho is true."
   ]
  },
  {
   "cell_type": "code",
   "execution_count": 1,
   "id": "5ff3efaa",
   "metadata": {},
   "outputs": [
    {
     "data": {
      "text/plain": [
       "0.058823529411764705"
      ]
     },
     "execution_count": 1,
     "metadata": {},
     "output_type": "execute_result"
    }
   ],
   "source": [
    "1/17\n"
   ]
  },
  {
   "cell_type": "code",
   "execution_count": null,
   "id": "2fab15d4",
   "metadata": {},
   "outputs": [],
   "source": []
  }
 ],
 "metadata": {
  "kernelspec": {
   "display_name": "Python 3 (ipykernel)",
   "language": "python",
   "name": "python3"
  },
  "language_info": {
   "codemirror_mode": {
    "name": "ipython",
    "version": 3
   },
   "file_extension": ".py",
   "mimetype": "text/x-python",
   "name": "python",
   "nbconvert_exporter": "python",
   "pygments_lexer": "ipython3",
   "version": "3.11.5"
  }
 },
 "nbformat": 4,
 "nbformat_minor": 5
}
